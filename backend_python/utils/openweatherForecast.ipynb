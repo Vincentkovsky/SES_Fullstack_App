{
 "cells": [
  {
   "cell_type": "code",
   "execution_count": null,
   "metadata": {},
   "outputs": [
    {
     "name": "stdout",
     "output_type": "stream",
     "text": [
      "[{'dt_txt': '2022-08-30 16:00:00', 'rain_1h': 0.13}, {'dt_txt': '2022-08-30 17:00:00', 'rain_1h': 0}, {'dt_txt': '2022-08-30 18:00:00', 'rain_1h': 0.24}, {'dt_txt': '2022-08-30 19:00:00', 'rain_1h': 0}]\n"
     ]
    }
   ],
   "source": [
    "from openweatherUtils import * \n",
    "\n",
    "# Example usage\n",
    "if __name__ == \"__main__\":\n",
    "    # Simulated API response for demonstration purposes\n",
    "    example_response = {\n",
    "        \"list\": [\n",
    "            {\n",
    "                \"dt_txt\": \"2022-08-30 16:00:00\",\n",
    "                \"rain\": {\"1h\": 0.13}\n",
    "            },\n",
    "            {\n",
    "                \"dt_txt\": \"2022-08-30 17:00:00\"\n",
    "                # 'rain' key is missing\n",
    "            },\n",
    "            {\n",
    "                \"dt_txt\": \"2022-08-30 18:00:00\",\n",
    "                \"rain\": {\"1h\": 0.24}\n",
    "            },\n",
    "            {\n",
    "                \"dt_txt\": \"2022-08-30 19:00:00\",\n",
    "                \"rain\": {}\n",
    "                # '1h' key is missing within 'rain'\n",
    "            }\n",
    "        ]\n",
    "    }\n",
    "\n",
    "decoded_data = decode_hourly_forecast(example_response)\n",
    "print(decoded_data)\n",
    "\n",
    "    "
   ]
  },
  {
   "cell_type": "code",
   "execution_count": 1,
   "metadata": {},
   "outputs": [
    {
     "name": "stderr",
     "output_type": "stream",
     "text": [
      "Processing points: 100%|██████████| 2880/2880 [00:29<00:00, 98.20point/s] \n"
     ]
    },
    {
     "name": "stdout",
     "output_type": "stream",
     "text": [
      "Results have been saved to weather_data.json\n"
     ]
    }
   ],
   "source": [
    "import json\n",
    "from concurrent.futures import ThreadPoolExecutor, as_completed\n",
    "from gridUtils import *\n",
    "from openweatherUtils import *\n",
    "from tqdm import tqdm\n",
    "\n",
    "# 输入路径\n",
    "nc_path = \"../data/results_3di.nc\"\n",
    "# 输出文件路径\n",
    "output_file = \"weather_data.json\"\n",
    "\n",
    "# 生成网格点\n",
    "points = constructWeatherGrid(500, nc_path)\n",
    "\n",
    "\n",
    "# 初始化存储数据\n",
    "timestamps = []\n",
    "points_data = []\n",
    "\n",
    "# 定义并行任务\n",
    "def process_point(point):\n",
    "    lon, lat = point\n",
    "    openweather_json = get_hourly_forecast(lat, lon)\n",
    "    decode_data = decode_hourly_forecast_as_array(openweather_json)\n",
    "    dt_txt_array = extract_dt_txt_array(openweather_json)\n",
    "    return {\"point\": (lon, lat), \"data\": decode_data, \"timestamps\": dt_txt_array}\n",
    "\n",
    "# 实时进度条\n",
    "progress_bar = tqdm(total=len(points), desc=\"Processing points\", unit=\"point\")\n",
    "\n",
    "# 使用线程池执行并保存结果\n",
    "results = []\n",
    "\n",
    "with ThreadPoolExecutor(max_workers=40) as executor:  # 调整 max_workers 为适当线程数\n",
    "    future_to_point = {executor.submit(process_point, point): point for point in points}\n",
    "\n",
    "    for future in as_completed(future_to_point):\n",
    "        point = future_to_point[future]\n",
    "        try:\n",
    "            result = future.result()\n",
    "            # 将解码后的数据存入 points_data\n",
    "            points_data.append({\"point\": result[\"point\"], \"data\": result[\"data\"]})\n",
    "            # 初始化 timestamps 仅一次\n",
    "            if not timestamps:\n",
    "                timestamps = result[\"timestamps\"]\n",
    "        except Exception as e:\n",
    "            print(f\"Error processing point {point}: {e}\")\n",
    "        finally:\n",
    "            progress_bar.update(1)  # 更新进度条\n",
    "\n",
    "progress_bar.close()  # 关闭进度条\n",
    "\n",
    "# 写入文件，单独存储 timestamps 和 points_data\n",
    "output = {\"timestamps\": timestamps, \"points_data\": points_data}\n",
    "with open(output_file, \"w\", encoding=\"utf-8\") as f:\n",
    "    json.dump(output, f, indent=4)\n",
    "\n",
    "print(f\"Results have been saved to {output_file}\")\n",
    "\n",
    "\n",
    "#定时call weather api -> 一天3次 -> 9点 14点 18点\n",
    "\n",
    "#确定放在哪个文件夹以及命名规则 -> 保存在cnnModel文件夹下\n",
    "\n",
    "#命名规则 -> 以整点时间戳命名 YYYYMMDD-HHMMSS -> 20250227-100000\n",
    "\n",
    "\n",
    "\n",
    "\n",
    "\n"
   ]
  }
 ],
 "metadata": {
  "kernelspec": {
   "display_name": "3di",
   "language": "python",
   "name": "python3"
  },
  "language_info": {
   "codemirror_mode": {
    "name": "ipython",
    "version": 3
   },
   "file_extension": ".py",
   "mimetype": "text/x-python",
   "name": "python",
   "nbconvert_exporter": "python",
   "pygments_lexer": "ipython3",
   "version": "3.12.5"
  }
 },
 "nbformat": 4,
 "nbformat_minor": 2
}
