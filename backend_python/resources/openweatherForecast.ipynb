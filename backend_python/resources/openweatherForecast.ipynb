{
 "cells": [
  {
   "cell_type": "code",
   "execution_count": 5,
   "metadata": {},
   "outputs": [
    {
     "name": "stderr",
     "output_type": "stream",
     "text": [
      "Processing points:  10%|█         | 293/2880 [00:14<07:35,  5.68point/s]"
     ]
    },
    {
     "name": "stdout",
     "output_type": "stream",
     "text": [
      "Error fetching data: HTTPSConnectionPool(host='pro.openweathermap.org', port=443): Max retries exceeded with url: /data/2.5/forecast/hourly?lat=-35.194442223250554&lon=147.5403373336445&appid=45b07159f9a38488403100e9f6256b67&cnt=24&units=metric (Caused by SSLError(SSLEOFError(8, '[SSL: UNEXPECTED_EOF_WHILE_READING] EOF occurred in violation of protocol (_ssl.c:1000)')))\n",
      "Invalid JSON data\n",
      "Invalid JSON data\n",
      "Error fetching data: HTTPSConnectionPool(host='pro.openweathermap.org', port=443): Max retries exceeded with url: /data/2.5/forecast/hourly?lat=-35.194466604242685&lon=147.5348451983468&appid=45b07159f9a38488403100e9f6256b67&cnt=24&units=metric (Caused by SSLError(SSLEOFError(8, '[SSL: UNEXPECTED_EOF_WHILE_READING] EOF occurred in violation of protocol (_ssl.c:1000)')))\n",
      "Invalid JSON data\n",
      "Invalid JSON data\n"
     ]
    },
    {
     "name": "stderr",
     "output_type": "stream",
     "text": [
      "Processing points:  10%|█         | 295/2880 [00:14<09:22,  4.60point/s]"
     ]
    },
    {
     "name": "stdout",
     "output_type": "stream",
     "text": [
      "Error fetching data: HTTPSConnectionPool(host='pro.openweathermap.org', port=443): Max retries exceeded with url: /data/2.5/forecast/hourly?lat=-35.19436758592686&lon=147.5568136994932&appid=45b07159f9a38488403100e9f6256b67&cnt=24&units=metric (Caused by SSLError(SSLEOFError(8, '[SSL: UNEXPECTED_EOF_WHILE_READING] EOF occurred in violation of protocol (_ssl.c:1000)')))\n",
      "Invalid JSON data\n",
      "Invalid JSON data\n",
      "Error fetching data: HTTPSConnectionPool(host='pro.openweathermap.org', port=443): Max retries exceeded with url: /data/2.5/forecast/hourly?lat=-35.19426458272201&lon=147.5787820913398&appid=45b07159f9a38488403100e9f6256b67&cnt=24&units=metric (Caused by SSLError(SSLEOFError(8, '[SSL: UNEXPECTED_EOF_WHILE_READING] EOF occurred in violation of protocol (_ssl.c:1000)')))\n",
      "Invalid JSON data\n",
      "Invalid JSON data\n"
     ]
    },
    {
     "name": "stderr",
     "output_type": "stream",
     "text": [
      "Processing points:  15%|█▌        | 436/2880 [00:30<11:05,  3.67point/s]"
     ]
    },
    {
     "name": "stdout",
     "output_type": "stream",
     "text": [
      "Error fetching data: HTTPSConnectionPool(host='pro.openweathermap.org', port=443): Max retries exceeded with url: /data/2.5/forecast/hourly?lat=-35.18565799162331&lon=147.4853620678602&appid=45b07159f9a38488403100e9f6256b67&cnt=24&units=metric (Caused by SSLError(SSLEOFError(8, '[SSL: UNEXPECTED_EOF_WHILE_READING] EOF occurred in violation of protocol (_ssl.c:1000)')))\n",
      "Invalid JSON data\n",
      "Invalid JSON data\n",
      "Error fetching data: HTTPSConnectionPool(host='pro.openweathermap.org', port=443): Max retries exceeded with url: /data/2.5/forecast/hourly?lat=-35.18563585955304&lon=147.4908536531055&appid=45b07159f9a38488403100e9f6256b67&cnt=24&units=metric (Caused by SSLError(SSLEOFError(8, '[SSL: UNEXPECTED_EOF_WHILE_READING] EOF occurred in violation of protocol (_ssl.c:1000)')))\n",
      "Invalid JSON data\n",
      "Invalid JSON data\n",
      "Error fetching data: HTTPSConnectionPool(host='pro.openweathermap.org', port=443): Max retries exceeded with url: /data/2.5/forecast/hourly?lat=-35.18561347849856&lon=147.4963452323306&appid=45b07159f9a38488403100e9f6256b67&cnt=24&units=metric (Caused by SSLError(SSLEOFError(8, '[SSL: UNEXPECTED_EOF_WHILE_READING] EOF occurred in violation of protocol (_ssl.c:1000)')))\n",
      "Invalid JSON data\n",
      "Invalid JSON data\n"
     ]
    },
    {
     "name": "stderr",
     "output_type": "stream",
     "text": [
      "Processing points:  15%|█▌        | 438/2880 [00:31<12:10,  3.34point/s]"
     ]
    },
    {
     "name": "stdout",
     "output_type": "stream",
     "text": [
      "Error fetching data: HTTPSConnectionPool(host='pro.openweathermap.org', port=443): Max retries exceeded with url: /data/2.5/forecast/hourly?lat=-35.18554484143891&lon=147.5128199332116&appid=45b07159f9a38488403100e9f6256b67&cnt=24&units=metric (Caused by SSLError(SSLEOFError(8, '[SSL: UNEXPECTED_EOF_WHILE_READING] EOF occurred in violation of protocol (_ssl.c:1000)')))\n",
      "Invalid JSON data\n",
      "Invalid JSON data\n"
     ]
    },
    {
     "name": "stderr",
     "output_type": "stream",
     "text": [
      "Processing points:  39%|███▉      | 1137/2880 [01:13<01:21, 21.32point/s]"
     ]
    },
    {
     "name": "stdout",
     "output_type": "stream",
     "text": [
      "Error fetching data: HTTPSConnectionPool(host='pro.openweathermap.org', port=443): Max retries exceeded with url: /data/2.5/forecast/hourly?lat=-35.149633980774105&lon=147.47416946324992&appid=45b07159f9a38488403100e9f6256b67&cnt=24&units=metric (Caused by SSLError(SSLEOFError(8, '[SSL: UNEXPECTED_EOF_WHILE_READING] EOF occurred in violation of protocol (_ssl.c:1000)')))\n",
      "Invalid JSON data\n",
      "Invalid JSON data\n"
     ]
    },
    {
     "name": "stderr",
     "output_type": "stream",
     "text": [
      "Processing points:  53%|█████▎    | 1525/2880 [01:36<01:24, 16.01point/s]"
     ]
    },
    {
     "name": "stdout",
     "output_type": "stream",
     "text": [
      "Error fetching data: HTTPSConnectionPool(host='pro.openweathermap.org', port=443): Max retries exceeded with url: /data/2.5/forecast/hourly?lat=-35.122625615297075&lon=147.46303791203488&appid=45b07159f9a38488403100e9f6256b67&cnt=24&units=metric (Caused by ProxyError('Cannot connect to proxy.', ConnectionResetError(54, 'Connection reset by peer')))\n",
      "Invalid JSON data\n",
      "Invalid JSON data\n"
     ]
    },
    {
     "name": "stderr",
     "output_type": "stream",
     "text": [
      "Processing points:  54%|█████▎    | 1544/2880 [01:57<12:54,  1.73point/s]"
     ]
    },
    {
     "name": "stdout",
     "output_type": "stream",
     "text": [
      "Error fetching data: HTTPSConnectionPool(host='pro.openweathermap.org', port=443): Max retries exceeded with url: /data/2.5/forecast/hourly?lat=-35.12264645390259&lon=147.4575505370346&appid=45b07159f9a38488403100e9f6256b67&cnt=24&units=metric (Caused by SSLError(SSLEOFError(8, '[SSL: UNEXPECTED_EOF_WHILE_READING] EOF occurred in violation of protocol (_ssl.c:1000)')))\n",
      "Invalid JSON data\n",
      "Invalid JSON data\n"
     ]
    },
    {
     "name": "stderr",
     "output_type": "stream",
     "text": [
      "Processing points:  54%|█████▍    | 1553/2880 [02:01<08:10,  2.71point/s]"
     ]
    },
    {
     "name": "stdout",
     "output_type": "stream",
     "text": [
      "Error fetching data: HTTPSConnectionPool(host='pro.openweathermap.org', port=443): Max retries exceeded with url: /data/2.5/forecast/hourly?lat=-35.13230412353247&lon=147.23258974822812&appid=45b07159f9a38488403100e9f6256b67&cnt=24&units=metric (Caused by SSLError(SSLEOFError(8, '[SSL: UNEXPECTED_EOF_WHILE_READING] EOF occurred in violation of protocol (_ssl.c:1000)')))\n",
      "Invalid JSON data\n",
      "Invalid JSON data\n"
     ]
    },
    {
     "name": "stderr",
     "output_type": "stream",
     "text": [
      "Processing points:  57%|█████▋    | 1648/2880 [02:31<05:22,  3.82point/s]"
     ]
    },
    {
     "name": "stdout",
     "output_type": "stream",
     "text": [
      "Error fetching data: HTTPSConnectionPool(host='pro.openweathermap.org', port=443): Max retries exceeded with url: /data/2.5/forecast/hourly?lat=-35.12302668053124&lon=147.34231447209854&appid=45b07159f9a38488403100e9f6256b67&cnt=24&units=metric (Caused by SSLError(SSLEOFError(8, '[SSL: UNEXPECTED_EOF_WHILE_READING] EOF occurred in violation of protocol (_ssl.c:1000)')))\n",
      "Invalid JSON data\n",
      "Invalid JSON data\n"
     ]
    },
    {
     "name": "stderr",
     "output_type": "stream",
     "text": [
      "Processing points:  68%|██████▊   | 1945/2880 [03:24<02:25,  6.42point/s]"
     ]
    },
    {
     "name": "stdout",
     "output_type": "stream",
     "text": [
      "Error fetching data: HTTPSConnectionPool(host='pro.openweathermap.org', port=443): Max retries exceeded with url: /data/2.5/forecast/hourly?lat=-35.12325424183218&lon=147.24902675190344&appid=45b07159f9a38488403100e9f6256b67&cnt=24&units=metric (Caused by ProxyError('Cannot connect to proxy.', RemoteDisconnected('Remote end closed connection without response')))\n",
      "Invalid JSON data\n",
      "Invalid JSON data\n"
     ]
    },
    {
     "name": "stderr",
     "output_type": "stream",
     "text": [
      "Processing points:  99%|█████████▉| 2847/2880 [06:04<03:15,  5.91s/point]"
     ]
    },
    {
     "name": "stdout",
     "output_type": "stream",
     "text": [
      "Error fetching data: HTTPSConnectionPool(host='pro.openweathermap.org', port=443): Max retries exceeded with url: /data/2.5/forecast/hourly?lat=-35.1232653919&lon=147.24353920830143&appid=45b07159f9a38488403100e9f6256b67&cnt=24&units=metric (Caused by SSLError(SSLEOFError(8, '[SSL: UNEXPECTED_EOF_WHILE_READING] EOF occurred in violation of protocol (_ssl.c:1000)')))\n",
      "Invalid JSON data\n",
      "Invalid JSON data\n",
      "Error fetching data: HTTPSConnectionPool(host='pro.openweathermap.org', port=443): Max retries exceeded with url: /data/2.5/forecast/hourly?lat=-35.12324284332942&lon=147.25451429245808&appid=45b07159f9a38488403100e9f6256b67&cnt=24&units=metric (Caused by SSLError(SSLEOFError(8, '[SSL: UNEXPECTED_EOF_WHILE_READING] EOF occurred in violation of protocol (_ssl.c:1000)')))\n",
      "Invalid JSON data\n",
      "Invalid JSON data\n",
      "Error fetching data: HTTPSConnectionPool(host='pro.openweathermap.org', port=443): Max retries exceeded with url: /data/2.5/forecast/hourly?lat=-35.12323119639216&lon=147.26000182989824&appid=45b07159f9a38488403100e9f6256b67&cnt=24&units=metric (Caused by SSLError(SSLEOFError(8, '[SSL: UNEXPECTED_EOF_WHILE_READING] EOF occurred in violation of protocol (_ssl.c:1000)')))\n",
      "Invalid JSON data\n",
      "Invalid JSON data\n"
     ]
    },
    {
     "name": "stderr",
     "output_type": "stream",
     "text": [
      "Processing points:  99%|█████████▉| 2849/2880 [06:04<01:51,  3.58s/point]"
     ]
    },
    {
     "name": "stdout",
     "output_type": "stream",
     "text": [
      "Error fetching data: HTTPSConnectionPool(host='pro.openweathermap.org', port=443): Max retries exceeded with url: /data/2.5/forecast/hourly?lat=-35.12321930102087&lon=147.26548936415674&appid=45b07159f9a38488403100e9f6256b67&cnt=24&units=metric (Caused by SSLError(SSLEOFError(8, '[SSL: UNEXPECTED_EOF_WHILE_READING] EOF occurred in violation of protocol (_ssl.c:1000)')))\n",
      "Invalid JSON data\n",
      "Invalid JSON data\n",
      "Error fetching data: HTTPSConnectionPool(host='pro.openweathermap.org', port=443): Max retries exceeded with url: /data/2.5/forecast/hourly?lat=-35.12319476497806&lon=147.27646442286013&appid=45b07159f9a38488403100e9f6256b67&cnt=24&units=metric (Caused by SSLError(SSLEOFError(8, '[SSL: UNEXPECTED_EOF_WHILE_READING] EOF occurred in violation of protocol (_ssl.c:1000)')))\n",
      "Invalid JSON data\n",
      "Invalid JSON data\n",
      "Error fetching data: HTTPSConnectionPool(host='pro.openweathermap.org', port=443): Max retries exceeded with url: /data/2.5/forecast/hourly?lat=-35.123207157216&lon=147.27097689516643&appid=45b07159f9a38488403100e9f6256b67&cnt=24&units=metric (Caused by SSLError(SSLEOFError(8, '[SSL: UNEXPECTED_EOF_WHILE_READING] EOF occurred in violation of protocol (_ssl.c:1000)')))\n",
      "Invalid JSON data\n",
      "Invalid JSON data\n"
     ]
    },
    {
     "name": "stderr",
     "output_type": "stream",
     "text": [
      "Processing points:  99%|█████████▉| 2857/2880 [06:04<00:22,  1.04point/s]"
     ]
    },
    {
     "name": "stdout",
     "output_type": "stream",
     "text": [
      "Error fetching data: HTTPSConnectionPool(host='pro.openweathermap.org', port=443): Max retries exceeded with url: /data/2.5/forecast/hourly?lat=-35.12316923520491&lon=147.2874394680311&appid=45b07159f9a38488403100e9f6256b67&cnt=24&units=metric (Caused by SSLError(SSLEOFError(8, '[SSL: UNEXPECTED_EOF_WHILE_READING] EOF occurred in violation of protocol (_ssl.c:1000)')))Error fetching data: HTTPSConnectionPool(host='pro.openweathermap.org', port=443): Max retries exceeded with url: /data/2.5/forecast/hourly?lat=-35.12315609767071&lon=147.29292698537404&appid=45b07159f9a38488403100e9f6256b67&cnt=24&units=metric (Caused by SSLError(SSLEOFError(8, '[SSL: UNEXPECTED_EOF_WHILE_READING] EOF occurred in violation of protocol (_ssl.c:1000)')))\n",
      "Invalid JSON data\n",
      "Invalid JSON data\n",
      "\n",
      "Invalid JSON data\n",
      "Invalid JSON data\n",
      "Error fetching data: HTTPSConnectionPool(host='pro.openweathermap.org', port=443): Max retries exceeded with url: /data/2.5/forecast/hourly?lat=-35.123182124307526&lon=147.28195194717074&appid=45b07159f9a38488403100e9f6256b67&cnt=24&units=metric (Caused by SSLError(SSLEOFError(8, '[SSL: UNEXPECTED_EOF_WHILE_READING] EOF occurred in violation of protocol (_ssl.c:1000)')))\n",
      "Invalid JSON data\n",
      "Invalid JSON data\n",
      "Error fetching data: HTTPSConnectionPool(host='pro.openweathermap.org', port=443): Max retries exceeded with url: /data/2.5/forecast/hourly?lat=-35.12314271170545&lon=147.29841449913246&appid=45b07159f9a38488403100e9f6256b67&cnt=24&units=metric (Caused by SSLError(SSLEOFError(8, '[SSL: UNEXPECTED_EOF_WHILE_READING] EOF occurred in violation of protocol (_ssl.c:1000)')))\n",
      "Invalid JSON data\n",
      "Invalid JSON data\n",
      "Error fetching data: HTTPSConnectionPool(host='pro.openweathermap.org', port=443): Max retries exceeded with url: /data/2.5/forecast/hourly?lat=-35.12312907730967&lon=147.30390200923918&appid=45b07159f9a38488403100e9f6256b67&cnt=24&units=metric (Caused by SSLError(SSLEOFError(8, '[SSL: UNEXPECTED_EOF_WHILE_READING] EOF occurred in violation of protocol (_ssl.c:1000)')))\n",
      "Invalid JSON data\n",
      "Invalid JSON data\n",
      "Error fetching data: HTTPSConnectionPool(host='pro.openweathermap.org', port=443): Max retries exceeded with url: /data/2.5/forecast/hourly?lat=-35.12310106322871&lon=147.31487701822894&appid=45b07159f9a38488403100e9f6256b67&cnt=24&units=metric (Caused by SSLError(SSLEOFError(8, '[SSL: UNEXPECTED_EOF_WHILE_READING] EOF occurred in violation of protocol (_ssl.c:1000)')))\n",
      "Invalid JSON data\n",
      "Invalid JSON data\n",
      "Error fetching data: HTTPSConnectionPool(host='pro.openweathermap.org', port=443): Max retries exceeded with url: /data/2.5/forecast/hourly?lat=-35.1231151944839&lon=147.30938951562706&appid=45b07159f9a38488403100e9f6256b67&cnt=24&units=metric (Caused by SSLError(SSLEOFError(8, '[SSL: UNEXPECTED_EOF_WHILE_READING] EOF occurred in violation of protocol (_ssl.c:1000)')))\n",
      "Invalid JSON data\n",
      "Invalid JSON data\n",
      "Error fetching data: HTTPSConnectionPool(host='pro.openweathermap.org', port=443): Max retries exceeded with url: /data/2.5/forecast/hourly?lat=-35.12308668354465&lon=147.32036451697772&appid=45b07159f9a38488403100e9f6256b67&cnt=24&units=metric (Caused by SSLError(SSLEOFError(8, '[SSL: UNEXPECTED_EOF_WHILE_READING] EOF occurred in violation of protocol (_ssl.c:1000)')))\n",
      "Invalid JSON data\n",
      "Invalid JSON data\n"
     ]
    },
    {
     "name": "stderr",
     "output_type": "stream",
     "text": [
      "Processing points:  99%|█████████▉| 2861/2880 [06:04<00:11,  1.62point/s]"
     ]
    },
    {
     "name": "stdout",
     "output_type": "stream",
     "text": [
      "Error fetching data: HTTPSConnectionPool(host='pro.openweathermap.org', port=443): Max retries exceeded with url: /data/2.5/forecast/hourly?lat=-35.12307205543228&lon=147.3258520118062&appid=45b07159f9a38488403100e9f6256b67&cnt=24&units=metric (Caused by SSLError(SSLEOFError(8, '[SSL: UNEXPECTED_EOF_WHILE_READING] EOF occurred in violation of protocol (_ssl.c:1000)')))\n",
      "Invalid JSON data\n",
      "Invalid JSON data\n",
      "Error fetching data: HTTPSConnectionPool(host='pro.openweathermap.org', port=443): Max retries exceeded with url: /data/2.5/forecast/hourly?lat=-35.123057178892196&lon=147.33133950264724&appid=45b07159f9a38488403100e9f6256b67&cnt=24&units=metric (Caused by SSLError(SSLEOFError(8, '[SSL: UNEXPECTED_EOF_WHILE_READING] EOF occurred in violation of protocol (_ssl.c:1000)')))\n",
      "Invalid JSON data\n",
      "Invalid JSON data\n",
      "Error fetching data: HTTPSConnectionPool(host='pro.openweathermap.org', port=443): Max retries exceeded with url: /data/2.5/forecast/hourly?lat=-35.123042053924976&lon=147.33682698943375&appid=45b07159f9a38488403100e9f6256b67&cnt=24&units=metric (Caused by SSLError(SSLEOFError(8, '[SSL: UNEXPECTED_EOF_WHILE_READING] EOF occurred in violation of protocol (_ssl.c:1000)')))\n",
      "Invalid JSON data\n",
      "Invalid JSON data\n"
     ]
    },
    {
     "name": "stderr",
     "output_type": "stream",
     "text": [
      "Processing points: 100%|█████████▉| 2870/2880 [06:05<00:02,  3.76point/s]"
     ]
    },
    {
     "name": "stdout",
     "output_type": "stream",
     "text": [
      "Error fetching data: HTTPSConnectionPool(host='pro.openweathermap.org', port=443): Max retries exceeded with url: /data/2.5/forecast/hourly?lat=-35.122979069797&lon=147.3587768946912&appid=45b07159f9a38488403100e9f6256b67&cnt=24&units=metric (Caused by SSLError(SSLEOFError(8, '[SSL: UNEXPECTED_EOF_WHILE_READING] EOF occurred in violation of protocol (_ssl.c:1000)')))Error fetching data: HTTPSConnectionPool(host='pro.openweathermap.org', port=443): Max retries exceeded with url: /data/2.5/forecast/hourly?lat=-35.12299518846662&lon=147.35328942479438&appid=45b07159f9a38488403100e9f6256b67&cnt=24&units=metric (Caused by SSLError(SSLEOFError(8, '[SSL: UNEXPECTED_EOF_WHILE_READING] EOF occurred in violation of protocol (_ssl.c:1000)')))\n",
      "Invalid JSON data\n",
      "Invalid JSON data\n",
      "\n",
      "Invalid JSON data\n",
      "Invalid JSON data\n",
      "Error fetching data: HTTPSConnectionPool(host='pro.openweathermap.org', port=443): Max retries exceeded with url: /data/2.5/forecast/hourly?lat=-35.12301105871157&lon=147.34780195057448&appid=45b07159f9a38488403100e9f6256b67&cnt=24&units=metric (Caused by SSLError(SSLEOFError(8, '[SSL: UNEXPECTED_EOF_WHILE_READING] EOF occurred in violation of protocol (_ssl.c:1000)')))\n",
      "Invalid JSON data\n",
      "Invalid JSON data\n",
      "Error fetching data: HTTPSConnectionPool(host='pro.openweathermap.org', port=443): Max retries exceeded with url: /data/2.5/forecast/hourly?lat=-35.1229460871863&lon=147.36975182124678&appid=45b07159f9a38488403100e9f6256b67&cnt=24&units=metric (Caused by SSLError(SSLEOFError(8, '[SSL: UNEXPECTED_EOF_WHILE_READING] EOF occurred in violation of protocol (_ssl.c:1000)')))\n",
      "Invalid JSON data\n",
      "Invalid JSON data\n",
      "Error fetching data: HTTPSConnectionPool(host='pro.openweathermap.org', port=443): Max retries exceeded with url: /data/2.5/forecast/hourly?lat=-35.12292922324654&lon=147.37523927777127&appid=45b07159f9a38488403100e9f6256b67&cnt=24&units=metric (Caused by SSLError(SSLEOFError(8, '[SSL: UNEXPECTED_EOF_WHILE_READING] EOF occurred in violation of protocol (_ssl.c:1000)')))\n",
      "Invalid JSON data\n",
      "Invalid JSON data\n",
      "Error fetching data: HTTPSConnectionPool(host='pro.openweathermap.org', port=443): Max retries exceeded with url: /data/2.5/forecast/hourly?lat=-35.12296270270333&lon=147.3642643601977&appid=45b07159f9a38488403100e9f6256b67&cnt=24&units=metric (Caused by SSLError(SSLEOFError(8, '[SSL: UNEXPECTED_EOF_WHILE_READING] EOF occurred in violation of protocol (_ssl.c:1000)')))\n",
      "Invalid JSON data\n",
      "Invalid JSON data\n",
      "Error fetching data: HTTPSConnectionPool(host='pro.openweathermap.org', port=443): Max retries exceeded with url: /data/2.5/forecast/hourly?lat=-35.12291211088474&lon=147.38072672970407&appid=45b07159f9a38488403100e9f6256b67&cnt=24&units=metric (Caused by SSLError(SSLEOFError(8, '[SSL: UNEXPECTED_EOF_WHILE_READING] EOF occurred in violation of protocol (_ssl.c:1000)')))\n",
      "Invalid JSON data\n",
      "Invalid JSON data\n",
      "Error fetching data: HTTPSConnectionPool(host='pro.openweathermap.org', port=443): Max retries exceeded with url: /data/2.5/forecast/hourly?lat=-35.12287714089771&lon=147.39170161952595&appid=45b07159f9a38488403100e9f6256b67&cnt=24&units=metric (Caused by SSLError(SSLEOFError(8, '[SSL: UNEXPECTED_EOF_WHILE_READING] EOF occurred in violation of protocol (_ssl.c:1000)')))\n",
      "Invalid JSON data\n",
      "Invalid JSON data\n",
      "Error fetching data: HTTPSConnectionPool(host='pro.openweathermap.org', port=443): Max retries exceeded with url: /data/2.5/forecast/hourly?lat=-35.122894750101565&lon=147.386214176978&appid=45b07159f9a38488403100e9f6256b67&cnt=24&units=metric (Caused by SSLError(SSLEOFError(8, '[SSL: UNEXPECTED_EOF_WHILE_READING] EOF occurred in violation of protocol (_ssl.c:1000)')))\n",
      "Invalid JSON data\n",
      "Invalid JSON data\n"
     ]
    },
    {
     "name": "stderr",
     "output_type": "stream",
     "text": [
      "Processing points: 100%|█████████▉| 2873/2880 [06:05<00:01,  4.57point/s]"
     ]
    },
    {
     "name": "stdout",
     "output_type": "stream",
     "text": [
      "Error fetching data: HTTPSConnectionPool(host='pro.openweathermap.org', port=443): Max retries exceeded with url: /data/2.5/forecast/hourly?lat=-35.122859283273876&lon=147.39718905728074&appid=45b07159f9a38488403100e9f6256b67&cnt=24&units=metric (Caused by SSLError(SSLEOFError(8, '[SSL: UNEXPECTED_EOF_WHILE_READING] EOF occurred in violation of protocol (_ssl.c:1000)')))\n",
      "Invalid JSON data\n",
      "Invalid JSON data\n",
      "Error fetching data: HTTPSConnectionPool(host='pro.openweathermap.org', port=443): Max retries exceeded with url: /data/2.5/forecast/hourly?lat=-35.122822822769095&lon=147.40816391814238&appid=45b07159f9a38488403100e9f6256b67&cnt=24&units=metric (Caused by SSLError(SSLEOFError(8, '[SSL: UNEXPECTED_EOF_WHILE_READING] EOF occurred in violation of protocol (_ssl.c:1000)')))\n",
      "Invalid JSON data\n",
      "Invalid JSON data\n",
      "Error fetching data: HTTPSConnectionPool(host='pro.openweathermap.org', port=443): Max retries exceeded with url: /data/2.5/forecast/hourly?lat=-35.12284117723076&lon=147.40267649017528&appid=45b07159f9a38488403100e9f6256b67&cnt=24&units=metric (Caused by SSLError(SSLEOFError(8, '[SSL: UNEXPECTED_EOF_WHILE_READING] EOF occurred in violation of protocol (_ssl.c:1000)')))\n",
      "Invalid JSON data\n",
      "Invalid JSON data\n"
     ]
    },
    {
     "name": "stderr",
     "output_type": "stream",
     "text": [
      "Processing points: 100%|█████████▉| 2879/2880 [06:06<00:00,  6.80point/s]"
     ]
    },
    {
     "name": "stdout",
     "output_type": "stream",
     "text": [
      "Error fetching data: HTTPSConnectionPool(host='pro.openweathermap.org', port=443): Max retries exceeded with url: /data/2.5/forecast/hourly?lat=-35.1227662688801&lon=147.4246261718078&appid=45b07159f9a38488403100e9f6256b67&cnt=24&units=metric (Caused by SSLError(SSLEOFError(8, '[SSL: UNEXPECTED_EOF_WHILE_READING] EOF occurred in violation of protocol (_ssl.c:1000)')))\n",
      "Invalid JSON data\n",
      "Invalid JSON data\n",
      "Error fetching data: HTTPSConnectionPool(host='pro.openweathermap.org', port=443): Max retries exceeded with url: /data/2.5/forecast/hourly?lat=-35.1227469207516&lon=147.43011357939383&appid=45b07159f9a38488403100e9f6256b67&cnt=24&units=metric (Caused by SSLError(SSLEOFError(8, '[SSL: UNEXPECTED_EOF_WHILE_READING] EOF occurred in violation of protocol (_ssl.c:1000)')))\n",
      "Invalid JSON data\n",
      "Invalid JSON data\n",
      "Error fetching data: HTTPSConnectionPool(host='pro.openweathermap.org', port=443): Max retries exceeded with url: /data/2.5/forecast/hourly?lat=-35.12272732420828&lon=147.43560098171676&appid=45b07159f9a38488403100e9f6256b67&cnt=24&units=metric (Caused by SSLError(SSLEOFError(8, '[SSL: UNEXPECTED_EOF_WHILE_READING] EOF occurred in violation of protocol (_ssl.c:1000)')))\n",
      "Invalid JSON data\n",
      "Invalid JSON data\n",
      "Error fetching data: HTTPSConnectionPool(host='pro.openweathermap.org', port=443): Max retries exceeded with url: /data/2.5/forecast/hourly?lat=-35.122707479250934&lon=147.44108837870945&appid=45b07159f9a38488403100e9f6256b67&cnt=24&units=metric (Caused by SSLError(SSLEOFError(8, '[SSL: UNEXPECTED_EOF_WHILE_READING] EOF occurred in violation of protocol (_ssl.c:1000)')))\n",
      "Invalid JSON data\n",
      "Invalid JSON data\n",
      "Error fetching data: HTTPSConnectionPool(host='pro.openweathermap.org', port=443): Max retries exceeded with url: /data/2.5/forecast/hourly?lat=-35.12268738588033&lon=147.44657577030472&appid=45b07159f9a38488403100e9f6256b67&cnt=24&units=metric (Caused by SSLError(SSLEOFError(8, '[SSL: UNEXPECTED_EOF_WHILE_READING] EOF occurred in violation of protocol (_ssl.c:1000)')))\n",
      "Invalid JSON data\n",
      "Invalid JSON data\n"
     ]
    },
    {
     "name": "stderr",
     "output_type": "stream",
     "text": [
      "Processing points: 100%|██████████| 2880/2880 [06:06<00:00,  7.87point/s]\n"
     ]
    },
    {
     "name": "stdout",
     "output_type": "stream",
     "text": [
      "Error fetching data: HTTPSConnectionPool(host='pro.openweathermap.org', port=443): Max retries exceeded with url: /data/2.5/forecast/hourly?lat=-35.12266704409728&lon=147.45206315643549&appid=45b07159f9a38488403100e9f6256b67&cnt=24&units=metric (Caused by SSLError(SSLEOFError(8, '[SSL: UNEXPECTED_EOF_WHILE_READING] EOF occurred in violation of protocol (_ssl.c:1000)')))\n",
      "Invalid JSON data\n",
      "Invalid JSON data\n",
      "Results have been saved to weather_data.json\n"
     ]
    }
   ],
   "source": [
    "import json\n",
    "from concurrent.futures import ThreadPoolExecutor, as_completed\n",
    "from gridUtils import *\n",
    "from openweatherUtils import *\n",
    "from tqdm import tqdm\n",
    "\n",
    "# 输入路径\n",
    "nc_path = \"results_3di.nc\"\n",
    "# 输出文件路径\n",
    "output_file = \"weather_data.json\"\n",
    "\n",
    "# 生成网格点\n",
    "points = constructWeatherGrid(500, nc_path)\n",
    "\n",
    "\n",
    "# 初始化存储数据\n",
    "timestamps = []\n",
    "points_data = []\n",
    "\n",
    "# 定义并行任务\n",
    "def process_point(point):\n",
    "    lon, lat = point\n",
    "    openweather_json = get_hourly_forecast(lat, lon)\n",
    "    decode_data = decode_hourly_forecast_as_array(openweather_json)\n",
    "    dt_txt_array = extract_dt_txt_array(openweather_json)\n",
    "    return {\"point\": (lon, lat), \"data\": decode_data, \"timestamps\": dt_txt_array}\n",
    "\n",
    "# 实时进度条\n",
    "progress_bar = tqdm(total=len(points), desc=\"Processing points\", unit=\"point\")\n",
    "\n",
    "# 使用线程池执行并保存结果\n",
    "results = []\n",
    "\n",
    "with ThreadPoolExecutor(max_workers=40) as executor:  # 调整 max_workers 为适当线程数\n",
    "    future_to_point = {executor.submit(process_point, point): point for point in points}\n",
    "\n",
    "    for future in as_completed(future_to_point):\n",
    "        point = future_to_point[future]\n",
    "        try:\n",
    "            result = future.result()\n",
    "            # 将解码后的数据存入 points_data\n",
    "            points_data.append({\"point\": result[\"point\"], \"data\": result[\"data\"]})\n",
    "            # 初始化 timestamps 仅一次\n",
    "            if not timestamps:\n",
    "                timestamps = result[\"timestamps\"]\n",
    "        except Exception as e:\n",
    "            print(f\"Error processing point {point}: {e}\")\n",
    "        finally:\n",
    "            progress_bar.update(1)  # 更新进度条\n",
    "\n",
    "progress_bar.close()  # 关闭进度条\n",
    "\n",
    "# 写入文件，单独存储 timestamps 和 points_data\n",
    "output = {\"timestamps\": timestamps, \"points_data\": points_data}\n",
    "with open(output_file, \"w\", encoding=\"utf-8\") as f:\n",
    "    json.dump(output, f, indent=4)\n",
    "\n",
    "print(f\"Results have been saved to {output_file}\")"
   ]
  },
  {
   "cell_type": "code",
   "execution_count": 1,
   "metadata": {},
   "outputs": [
    {
     "ename": "UnboundLocalError",
     "evalue": "cannot access local variable 'points' where it is not associated with a value",
     "output_type": "error",
     "traceback": [
      "\u001b[0;31m---------------------------------------------------------------------------\u001b[0m",
      "\u001b[0;31mUnboundLocalError\u001b[0m                         Traceback (most recent call last)",
      "Cell \u001b[0;32mIn[1], line 91\u001b[0m\n\u001b[1;32m     88\u001b[0m end_date \u001b[38;5;241m=\u001b[39m \u001b[38;5;124m\"\u001b[39m\u001b[38;5;124m2022-11-06\u001b[39m\u001b[38;5;124m\"\u001b[39m\n\u001b[1;32m     89\u001b[0m hourly_params \u001b[38;5;241m=\u001b[39m [\u001b[38;5;124m\"\u001b[39m\u001b[38;5;124mrain\u001b[39m\u001b[38;5;124m\"\u001b[39m]\n\u001b[0;32m---> 91\u001b[0m historical_results \u001b[38;5;241m=\u001b[39m \u001b[43mget_historical_weather_for_points\u001b[49m\u001b[43m(\u001b[49m\u001b[43mstart_date\u001b[49m\u001b[43m,\u001b[49m\u001b[43m \u001b[49m\u001b[43mend_date\u001b[49m\u001b[43m,\u001b[49m\u001b[43m \u001b[49m\u001b[43mhourly_params\u001b[49m\u001b[43m)\u001b[49m\n\u001b[1;32m     93\u001b[0m \u001b[38;5;66;03m# Save historical results to file\u001b[39;00m\n\u001b[1;32m     94\u001b[0m historical_output_file \u001b[38;5;241m=\u001b[39m \u001b[38;5;124m\"\u001b[39m\u001b[38;5;124mhistorical_weather_data.json\u001b[39m\u001b[38;5;124m\"\u001b[39m\n",
      "Cell \u001b[0;32mIn[1], line 25\u001b[0m, in \u001b[0;36mget_historical_weather_for_points\u001b[0;34m(start_date, end_date, hourly_params)\u001b[0m\n\u001b[1;32m     22\u001b[0m historical_points_data \u001b[38;5;241m=\u001b[39m []\n\u001b[1;32m     24\u001b[0m \u001b[38;5;66;03m# Progress bar for tracking API calls\u001b[39;00m\n\u001b[0;32m---> 25\u001b[0m progress_bar \u001b[38;5;241m=\u001b[39m tqdm(total\u001b[38;5;241m=\u001b[39m\u001b[38;5;28mlen\u001b[39m(\u001b[43mpoints\u001b[49m), desc\u001b[38;5;241m=\u001b[39m\u001b[38;5;124m\"\u001b[39m\u001b[38;5;124mFetching historical data\u001b[39m\u001b[38;5;124m\"\u001b[39m, unit\u001b[38;5;241m=\u001b[39m\u001b[38;5;124m\"\u001b[39m\u001b[38;5;124mpoint\u001b[39m\u001b[38;5;124m\"\u001b[39m)\n\u001b[1;32m     27\u001b[0m \u001b[38;5;28;01mdef\u001b[39;00m \u001b[38;5;21mprocess_point\u001b[39m(point):\n\u001b[1;32m     28\u001b[0m     lon, lat \u001b[38;5;241m=\u001b[39m point\n",
      "\u001b[0;31mUnboundLocalError\u001b[0m: cannot access local variable 'points' where it is not associated with a value"
     ]
    }
   ],
   "source": [
    "import json\n",
    "from concurrent.futures import ThreadPoolExecutor, as_completed\n",
    "from gridUtils import *\n",
    "from openweatherUtils import *\n",
    "from tqdm import tqdm\n",
    "\n",
    "# Get historical weather data for all points\n",
    "def get_historical_weather_for_points(start_date, end_date, hourly_params=[\"rain\"]):\n",
    "    \"\"\"\n",
    "    Fetches historical weather data for multiple points using Open-Meteo Archive API.\n",
    "    \n",
    "    Parameters:\n",
    "        points (list): List of (lon, lat) tuples\n",
    "        start_date (str): Start date in YYYY-MM-DD format\n",
    "        end_date (str): End date in YYYY-MM-DD format\n",
    "        hourly_params (list): List of hourly parameters to fetch\n",
    "        \n",
    "    Returns:\n",
    "        dict: Dictionary containing timestamps and points data\n",
    "    \"\"\"\n",
    "    historical_timestamps = []\n",
    "    historical_points_data = []\n",
    "    \n",
    "    # Progress bar for tracking API calls\n",
    "    progress_bar = tqdm(total=len(points), desc=\"Fetching historical data\", unit=\"point\")\n",
    "    \n",
    "    def process_point(point):\n",
    "        lon, lat = point\n",
    "        # Get historical data from Open-Meteo\n",
    "        historical_json = get_historical_archive_openmeteo(\n",
    "            latitude=lat,\n",
    "            longitude=lon,\n",
    "            start_date=start_date,\n",
    "            end_date=end_date,\n",
    "            hourly_params=hourly_params\n",
    "        )\n",
    "        \n",
    "        # Decode the historical data\n",
    "        decoded_data = decode_historical_archive_openmeteo(historical_json)\n",
    "        \n",
    "        return {\n",
    "            \"point\": (lon, lat),\n",
    "            \"data\": decoded_data,\n",
    "            \"timestamps\": decoded_data.get('timestamps', [])\n",
    "        }\n",
    "    \n",
    "    def generate_points():\n",
    "        nc_path = \"results_3di.nc\"\n",
    "        output_file = \"weather_data.json\"\n",
    "\n",
    "        points = constructWeatherGrid(500, nc_path)\n",
    "\n",
    "        return points\n",
    "\n",
    "    \n",
    "    points = generate_points()\n",
    "    # Use ThreadPoolExecutor for parallel processing\n",
    "    with ThreadPoolExecutor(max_workers=40) as executor:\n",
    "        future_to_point = {executor.submit(process_point, point): point for point in points}\n",
    "        \n",
    "        for future in as_completed(future_to_point):\n",
    "            point = future_to_point[future]\n",
    "            try:\n",
    "                result = future.result()\n",
    "                # Store point data\n",
    "                historical_points_data.append({\n",
    "                    \"point\": result[\"point\"],\n",
    "                    \"data\": result[\"data\"]\n",
    "                })\n",
    "                # Initialize timestamps only once\n",
    "                if not historical_timestamps:\n",
    "                    historical_timestamps = result[\"timestamps\"]\n",
    "            except Exception as e:\n",
    "                print(f\"Error processing historical data for point {point}: {e}\")\n",
    "            finally:\n",
    "                progress_bar.update(1)\n",
    "    \n",
    "    progress_bar.close()\n",
    "    \n",
    "    return {\n",
    "        \"timestamps\": historical_timestamps,\n",
    "        \"points_data\": historical_points_data\n",
    "    }\n",
    "\n",
    "# 20221101_000000-20221106_000000\n",
    "# Example usage:\n",
    "start_date = \"2022-11-01\"  \n",
    "end_date = \"2022-11-06\"\n",
    "hourly_params = [\"rain\"]\n",
    "\n",
    "historical_results = get_historical_weather_for_points(start_date, end_date, hourly_params)\n",
    "\n",
    "# Save historical results to file\n",
    "historical_output_file = \"historical_weather_data.json\"\n",
    "with open(historical_output_file, \"w\", encoding=\"utf-8\") as f:\n",
    "    json.dump(historical_results, f, indent=4)\n",
    "\n",
    "print(f\"Historical weather data has been saved to {historical_output_file}\")\n"
   ]
  },
  {
   "cell_type": "code",
   "execution_count": 2,
   "metadata": {},
   "outputs": [
    {
     "name": "stdout",
     "output_type": "stream",
     "text": [
      "Forecast for Wagga Wagga:\n",
      "Number of timestamps: 19\n",
      "Number of rainfall values: 19\n",
      "\n",
      "Number of non-zero rainfall values in forecast: 10\n",
      "[0, 0, 0, 0, 0, 0.24, 0.25, 0.17, 0.21, 0.22]\n",
      "\n",
      "Formatted Forecast Data:\n",
      "Timestamps           Rainfall (mm)\n",
      "----------------------------------------\n",
      "20250303-150000          0.00\n",
      "20250303-153000          0.00\n",
      "20250303-160000          0.00\n",
      "20250303-163000          0.00\n",
      "20250303-170000          0.00\n",
      "20250303-173000          0.00\n",
      "20250303-180000          0.00\n",
      "20250303-183000          0.00\n",
      "20250303-190000          0.00\n",
      "20250303-193000          0.12\n",
      "20250303-200000          0.12\n",
      "20250303-203000          0.12\n",
      "20250303-210000          0.12\n",
      "20250303-213000          0.09\n",
      "20250303-220000          0.09\n",
      "20250303-223000          0.10\n",
      "20250303-230000          0.10\n",
      "20250303-233000          0.11\n",
      "20250304-000000          0.11\n",
      "\n",
      "Hourly Rainfall Values:\n",
      "Timestamp            Hourly Rainfall (mm)\n",
      "----------------------------------------\n",
      "20250303-150000          0.00\n",
      "20250303-160000          0.00\n",
      "20250303-170000          0.00\n",
      "20250303-180000          0.00\n",
      "20250303-190000          0.00\n",
      "20250303-200000          0.24\n",
      "20250303-210000          0.25\n",
      "20250303-220000          0.17\n",
      "20250303-230000          0.21\n",
      "20250304-000000          0.22\n"
     ]
    }
   ],
   "source": [
    "from openweatherUtils import get_hourly_forecast, decode_hourly_forecast, decode_hourly_forecast_as_array\n",
    "from datetime import datetime# Sydney coordinates\n",
    "sydney_lat = -33.8688 \n",
    "sydney_lon = 151.2093\n",
    "\n",
    "\n",
    "\n",
    "# Get hourly forecast for Hefei\n",
    "hefei_forecast = get_hourly_forecast(\n",
    "    lat=sydney_lat, \n",
    "    lon=sydney_lon,\n",
    "    cnt=10,  # Get 48 hours of forecast\n",
    "    units=\"metric\"\n",
    ")\n",
    "\n",
    "hourly_forecast = decode_hourly_forecast_as_array(hefei_forecast)\n",
    "\n",
    "\n",
    "if hefei_forecast:\n",
    "    # Decode the forecast data\n",
    "    decoded_forecast = decode_hourly_forecast(hefei_forecast)\n",
    "    \n",
    "    print(\"Forecast for Wagga Wagga:\")\n",
    "    print(f\"Number of timestamps: {len(decoded_forecast['timestamps'])}\")\n",
    "    print(f\"Number of rainfall values: {len(decoded_forecast['rainfall'])}\")\n",
    "    \n",
    "\n",
    "    # Count non-zero rainfall values in the decoded forecast\n",
    "    non_zero_rainfall = sum(1 for value in decoded_forecast['rainfall'] if value > 0)\n",
    "    print(f\"\\nNumber of non-zero rainfall values in forecast: {non_zero_rainfall}\")\n",
    "\n",
    "    print(hourly_forecast)\n",
    "\n",
    "    # Print formatted decoded forecast data\n",
    "    print(\"\\nFormatted Forecast Data:\")\n",
    "    print(\"Timestamps\".ljust(20), \"Rainfall (mm)\")\n",
    "    print(\"-\" * 40)\n",
    "\n",
    "\n",
    "    for ts, rain in zip(decoded_forecast['timestamps'], decoded_forecast['rainfall']):\n",
    "        print(f\"{ts.ljust(20)} {rain:>8.2f}\")\n",
    "    print(\"\\nHourly Rainfall Values:\")\n",
    "    print(\"Timestamp\".ljust(20), \"Hourly Rainfall (mm)\")\n",
    "    print(\"-\" * 40)\n",
    "    for i, ts in enumerate(decoded_forecast['timestamps']):\n",
    "        # Convert timestamp string to datetime\n",
    "        dt = datetime.strptime(ts, \"%Y%m%d-%H%M%S\")\n",
    "        # Check if it's on the hour (minutes = 00)\n",
    "        if dt.minute == 0:\n",
    "            print(f\"{ts.ljust(20)} {hourly_forecast[i//2]:>8.2f}\")\n",
    "\n",
    "\n",
    "else:\n",
    "    print(\"Failed to fetch forecast data for Hefei\")\n",
    "\n"
   ]
  },
  {
   "cell_type": "code",
   "execution_count": 3,
   "metadata": {},
   "outputs": [
    {
     "name": "stdout",
     "output_type": "stream",
     "text": [
      "Number of points in weather_data.json: 2672\n"
     ]
    }
   ],
   "source": [
    "# Load and parse the weather data JSON file\n",
    "import json\n",
    "\n",
    "with open('weather_data.json', 'r') as f:\n",
    "    weather_data = json.load(f)\n",
    "\n",
    "# Count the number of points in the data\n",
    "num_points = len(weather_data.get('points_data'))\n",
    "\n",
    "print(f\"Number of points in weather_data.json: {num_points}\")\n"
   ]
  }
 ],
 "metadata": {
  "kernelspec": {
   "display_name": "3di",
   "language": "python",
   "name": "python3"
  },
  "language_info": {
   "codemirror_mode": {
    "name": "ipython",
    "version": 3
   },
   "file_extension": ".py",
   "mimetype": "text/x-python",
   "name": "python",
   "nbconvert_exporter": "python",
   "pygments_lexer": "ipython3",
   "version": "3.12.5"
  }
 },
 "nbformat": 4,
 "nbformat_minor": 2
}
