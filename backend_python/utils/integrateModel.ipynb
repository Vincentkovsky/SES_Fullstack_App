{
 "cells": [
  {
   "cell_type": "code",
   "execution_count": 1,
   "metadata": {},
   "outputs": [
    {
     "ename": "FileNotFoundError",
     "evalue": "指定的工作目录不存在: /path/to/working/directory",
     "output_type": "error",
     "traceback": [
      "\u001b[0;31m---------------------------------------------------------------------------\u001b[0m",
      "\u001b[0;31mFileNotFoundError\u001b[0m                         Traceback (most recent call last)",
      "Cell \u001b[0;32mIn[1], line 52\u001b[0m\n\u001b[1;32m     49\u001b[0m work_dir \u001b[38;5;241m=\u001b[39m \u001b[38;5;124m\"\u001b[39m\u001b[38;5;124m/path/to/working/directory\u001b[39m\u001b[38;5;124m\"\u001b[39m\n\u001b[1;32m     50\u001b[0m inference_script_path \u001b[38;5;241m=\u001b[39m \u001b[38;5;124m\"\u001b[39m\u001b[38;5;124m/path/to/inference_script.py\u001b[39m\u001b[38;5;124m\"\u001b[39m\n\u001b[0;32m---> 52\u001b[0m \u001b[43mrun_inference_script\u001b[49m\u001b[43m(\u001b[49m\n\u001b[1;32m     53\u001b[0m \u001b[43m    \u001b[49m\u001b[43mwdir\u001b[49m\u001b[38;5;241;43m=\u001b[39;49m\u001b[43mwork_dir\u001b[49m\u001b[43m,\u001b[49m\n\u001b[1;32m     54\u001b[0m \u001b[43m    \u001b[49m\u001b[43mnum_epochs\u001b[49m\u001b[38;5;241;43m=\u001b[39;49m\u001b[38;5;241;43m100\u001b[39;49m\u001b[43m,\u001b[49m\n\u001b[1;32m     55\u001b[0m \u001b[43m    \u001b[49m\u001b[43mscale\u001b[49m\u001b[38;5;241;43m=\u001b[39;49m\u001b[38;5;241;43m2\u001b[39;49m\u001b[43m,\u001b[49m\n\u001b[1;32m     56\u001b[0m \u001b[43m    \u001b[49m\u001b[43minit\u001b[49m\u001b[38;5;241;43m=\u001b[39;49m\u001b[38;5;241;43m10\u001b[39;49m\u001b[43m,\u001b[49m\n\u001b[1;32m     57\u001b[0m \u001b[43m    \u001b[49m\u001b[43msteps\u001b[49m\u001b[38;5;241;43m=\u001b[39;49m\u001b[38;5;241;43m24\u001b[39;49m\u001b[43m,\u001b[49m\n\u001b[1;32m     58\u001b[0m \u001b[43m    \u001b[49m\u001b[43mscript_path\u001b[49m\u001b[38;5;241;43m=\u001b[39;49m\u001b[43minference_script_path\u001b[49m\n\u001b[1;32m     59\u001b[0m \u001b[43m\u001b[49m\u001b[43m)\u001b[49m\n",
      "Cell \u001b[0;32mIn[1], line 21\u001b[0m, in \u001b[0;36mrun_inference_script\u001b[0;34m(wdir, num_epochs, scale, init, steps, script_path)\u001b[0m\n\u001b[1;32m     19\u001b[0m \u001b[38;5;66;03m# 检查工作目录和脚本文件是否存在\u001b[39;00m\n\u001b[1;32m     20\u001b[0m \u001b[38;5;28;01mif\u001b[39;00m \u001b[38;5;129;01mnot\u001b[39;00m os\u001b[38;5;241m.\u001b[39mpath\u001b[38;5;241m.\u001b[39mexists(wdir):\n\u001b[0;32m---> 21\u001b[0m     \u001b[38;5;28;01mraise\u001b[39;00m \u001b[38;5;167;01mFileNotFoundError\u001b[39;00m(\u001b[38;5;124mf\u001b[39m\u001b[38;5;124m\"\u001b[39m\u001b[38;5;124m指定的工作目录不存在: \u001b[39m\u001b[38;5;132;01m{\u001b[39;00mwdir\u001b[38;5;132;01m}\u001b[39;00m\u001b[38;5;124m\"\u001b[39m)\n\u001b[1;32m     22\u001b[0m \u001b[38;5;28;01mif\u001b[39;00m \u001b[38;5;129;01mnot\u001b[39;00m os\u001b[38;5;241m.\u001b[39mpath\u001b[38;5;241m.\u001b[39mexists(script_path):\n\u001b[1;32m     23\u001b[0m     \u001b[38;5;28;01mraise\u001b[39;00m \u001b[38;5;167;01mFileNotFoundError\u001b[39;00m(\u001b[38;5;124mf\u001b[39m\u001b[38;5;124m\"\u001b[39m\u001b[38;5;124m推断脚本文件不存在: \u001b[39m\u001b[38;5;132;01m{\u001b[39;00mscript_path\u001b[38;5;132;01m}\u001b[39;00m\u001b[38;5;124m\"\u001b[39m)\n",
      "\u001b[0;31mFileNotFoundError\u001b[0m: 指定的工作目录不存在: /path/to/working/directory"
     ]
    }
   ],
   "source": [
    "import subprocess\n",
    "import os\n",
    "\n",
    "def run_inference_script(wdir, num_epochs=100, scale=1, init=5, steps=48, script_path=\"inference_script.py\"):\n",
    "    \"\"\"\n",
    "    调用推断脚本运行模型推断任务。\n",
    "\n",
    "    参数:\n",
    "        wdir (str): 工作目录，必须包含脚本需要的所有文件和模型权重。\n",
    "        num_epochs (int): 训练模型的总轮数，用于加载对应的模型文件。\n",
    "        scale (int): 缩放比例，用于调整输入数据尺寸。\n",
    "        init (int): 初始时间步索引。\n",
    "        steps (int): 推断的时间步数。\n",
    "        script_path (str): 推断脚本的路径，默认值为 \"inference_script.py\"。\n",
    "    \n",
    "    返回:\n",
    "        int: 脚本执行的返回码。0 表示成功，非 0 表示出错。\n",
    "    \"\"\"\n",
    "    # 检查工作目录和脚本文件是否存在\n",
    "    if not os.path.exists(wdir):\n",
    "        raise FileNotFoundError(f\"指定的工作目录不存在: {wdir}\")\n",
    "    if not os.path.exists(script_path):\n",
    "        raise FileNotFoundError(f\"推断脚本文件不存在: {script_path}\")\n",
    "    \n",
    "    # 构造命令行参数\n",
    "    command = [\n",
    "        \"python\", script_path,\n",
    "        \"--wdir\", wdir,\n",
    "        \"--num_epochs\", str(num_epochs),\n",
    "        \"--scale\", str(scale),\n",
    "        \"--init\", str(init),\n",
    "        \"--steps\", str(steps)\n",
    "    ]\n",
    "    \n",
    "    # 运行推断脚本\n",
    "    try:\n",
    "        result = subprocess.run(command, check=True, capture_output=True, text=True)\n",
    "        print(\"推断脚本执行成功！输出如下：\")\n",
    "        print(result.stdout)\n",
    "        return 0\n",
    "    except subprocess.CalledProcessError as e:\n",
    "        print(\"推断脚本执行出错！错误信息如下：\")\n",
    "        print(e.stderr)\n",
    "        return e.returncode\n",
    "\n",
    "# 示例调用\n",
    "if __name__ == \"__main__\":\n",
    "    # 替换为你的实际工作目录和脚本路径\n",
    "    work_dir = \"/path/to/working/directory\"\n",
    "    inference_script_path = \"/path/to/inference_script.py\"\n",
    "    \n",
    "    run_inference_script(\n",
    "        wdir=work_dir,\n",
    "        num_epochs=100,\n",
    "        scale=2,\n",
    "        init=10,\n",
    "        steps=24,\n",
    "        script_path=inference_script_path\n",
    "    )"
   ]
  }
 ],
 "metadata": {
  "kernelspec": {
   "display_name": "base",
   "language": "python",
   "name": "python3"
  },
  "language_info": {
   "codemirror_mode": {
    "name": "ipython",
    "version": 3
   },
   "file_extension": ".py",
   "mimetype": "text/x-python",
   "name": "python",
   "nbconvert_exporter": "python",
   "pygments_lexer": "ipython3",
   "version": "3.10.9"
  }
 },
 "nbformat": 4,
 "nbformat_minor": 2
}
